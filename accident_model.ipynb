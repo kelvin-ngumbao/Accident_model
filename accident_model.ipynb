{
 "cells": [
  {
   "cell_type": "code",
   "execution_count": 6,
   "id": "ed15985e-0642-45c6-a0cf-9bd86d20f3c7",
   "metadata": {},
   "outputs": [],
   "source": [
    "import pandas as pd\n",
    "import numpy as np\n",
    "from sklearn.model_selection import train_test_split\n",
    "from sklearn.linear_model import LinearRegression\n",
    "from sklearn.metrics import mean_squared_error, r2_score"
   ]
  },
  {
   "cell_type": "code",
   "execution_count": 7,
   "id": "1e4831de-6ac1-4086-922c-4854ba24eece",
   "metadata": {},
   "outputs": [
    {
     "name": "stdout",
     "output_type": "stream",
     "text": [
      "   Accident_severity     Month     Speed Weather Road_condition  Driver_Age  \\\n",
      "0                  2   January  100km/hr   Rainy            wet          45   \n",
      "1                  2   January   69km/hr   Sunny            dry          33   \n",
      "2                  1  February   50km/hr   Sunny            dry          33   \n",
      "3                  3  February  150km/hr   Rainy            wet          33   \n",
      "4                  2     March  120km/hr   Rainy            wet          33   \n",
      "\n",
      "   Gender Alcohol_level  \n",
      "0    Male          0.58  \n",
      "1  Female          0.78  \n",
      "2  Female           0.3  \n",
      "3    Male         0..04  \n",
      "4  Female          0.48  \n"
     ]
    }
   ],
   "source": [
    "data = pd.read_csv('downloads/accidents.csv')\n",
    "\n",
    "# Display first few rows to understand the structure\n",
    "print(data.head())\n"
   ]
  },
  {
   "cell_type": "code",
   "execution_count": 8,
   "id": "ea4f4c52-0387-4a33-b583-ccd6b92f66fe",
   "metadata": {},
   "outputs": [
    {
     "name": "stdout",
     "output_type": "stream",
     "text": [
      "Index(['Accident_severity', 'Month', 'Speed', 'Weather', 'Road_condition',\n",
      "       'Driver_Age', 'Gender', 'Alcohol_level'],\n",
      "      dtype='object')\n",
      "X_train shape: (3, 9)\n",
      "X_test shape: (2, 9)\n",
      "y_train shape: (3,)\n",
      "y_test shape: (2,)\n"
     ]
    }
   ],
   "source": [
    "# Check the column names in the dataset\n",
    "print(data.columns)\n",
    "\n",
    "# Define dependent and independent variables (adjust based on available columns)\n",
    "X = data[['Month', 'Speed', 'Weather', 'Driver_Age', 'Gender']]  # Removed 'Road_Condition' and 'Alcohol_Level'\n",
    "y = data['Accident_severity']  # Dependent variable\n",
    "\n",
    "# Encode categorical variables (e.g., 'Weather', 'Gender')\n",
    "# Assuming 'Weather' and 'Gender' are categorical\n",
    "X = pd.get_dummies(X, drop_first=True)\n",
    "\n",
    "# Split dataset into training and testing sets\n",
    "X_train, X_test, y_train, y_test = train_test_split(X, y, test_size=0.3, random_state=42)\n",
    "\n",
    "# Print shapes of the training and test sets to verify the split\n",
    "print(\"X_train shape:\", X_train.shape)\n",
    "print(\"X_test shape:\", X_test.shape)\n",
    "print(\"y_train shape:\", y_train.shape)\n",
    "print(\"y_test shape:\", y_test.shape)\n",
    "\n"
   ]
  },
  {
   "cell_type": "code",
   "execution_count": 9,
   "id": "048abc94-aa58-45ec-b1aa-f209351501cb",
   "metadata": {},
   "outputs": [
    {
     "name": "stdout",
     "output_type": "stream",
     "text": [
      "Number of samples in test set: 2\n"
     ]
    }
   ],
   "source": [
    "# Print the number of samples in the test set to check if the size is too small\n",
    "print(f'Number of samples in test set: {len(X_test)}')\n"
   ]
  },
  {
   "cell_type": "code",
   "execution_count": 10,
   "id": "3fb166ef-bda6-436b-97ef-6cee124e252a",
   "metadata": {},
   "outputs": [
    {
     "name": "stdout",
     "output_type": "stream",
     "text": [
      "Mean Squared Error: 0.12715474757935627\n",
      "R-squared: 0.0\n"
     ]
    }
   ],
   "source": [
    "# Create a linear regression model\n",
    "model = LinearRegression()\n",
    "\n",
    "# Train the model on the training data\n",
    "model.fit(X_train, y_train)\n",
    "\n",
    "# Make predictions on the test data\n",
    "y_pred = model.predict(X_test)\n",
    "\n",
    "# Evaluate the model\n",
    "mse = mean_squared_error(y_test, y_pred)\n",
    "r2 = r2_score(y_test, y_pred)\n",
    "\n",
    "print(f'Mean Squared Error: {mse}')\n",
    "print(f'R-squared: {r2}')"
   ]
  },
  {
   "cell_type": "code",
   "execution_count": 11,
   "id": "4428d328-0a03-42de-b4f0-08eac3b91f58",
   "metadata": {},
   "outputs": [
    {
     "data": {
      "text/plain": [
       "['road_accident_severity_model.pkl']"
      ]
     },
     "execution_count": 11,
     "metadata": {},
     "output_type": "execute_result"
    }
   ],
   "source": [
    "import joblib\n",
    "\n",
    "# Save the model\n",
    "joblib.dump(model, 'road_accident_severity_model.pkl')"
   ]
  },
  {
   "cell_type": "code",
   "execution_count": 17,
   "id": "792de35d-e8c5-41dc-8e9e-46d6f16cb8b7",
   "metadata": {},
   "outputs": [
    {
     "name": "stdout",
     "output_type": "stream",
     "text": [
      "Predicted Accident Severity: 1.9125214408233282\n"
     ]
    }
   ],
   "source": [
    "# Hypothetical data (make sure this structure matches the original data used for training)\n",
    "hypothetical_data = pd.DataFrame({\n",
    "    'Month_January': [1],\n",
    "    'Month_March': [0],\n",
    "    'Speed_120km/hr': [0], \n",
    "    'Speed_150km/hr': [0], \n",
    "    'Speed_70km/hr': [1],\n",
    "    'Weather_Sunny': [1],    # Assuming clear weather was encoded\n",
    "    'Weather_Rainy': [0],    # Add this to match the columns\n",
    "    'Driver_Age': [35],\n",
    "    'Gender_Male': [1],      # Assuming male was encoded\n",
    "})\n",
    "\n",
    "# Re-align the columns with the training data (adding any missing columns with 0)\n",
    "missing_cols = set(X_train.columns) - set(hypothetical_data.columns)\n",
    "for col in missing_cols:\n",
    "    hypothetical_data[col] = 0\n",
    "\n",
    "# Ensure the columns are in the same order as the training data\n",
    "hypothetical_data = hypothetical_data[X_train.columns]\n",
    "\n",
    "# Make prediction\n",
    "severity_prediction = model.predict(hypothetical_data)\n",
    "print(f'Predicted Accident Severity: {severity_prediction[0]}')\n"
   ]
  },
  {
   "cell_type": "code",
   "execution_count": null,
   "id": "7ae2d0ae-65f1-4742-9c0a-1e40f6933307",
   "metadata": {},
   "outputs": [],
   "source": []
  }
 ],
 "metadata": {
  "kernelspec": {
   "display_name": "Python 3 (ipykernel)",
   "language": "python",
   "name": "python3"
  },
  "language_info": {
   "codemirror_mode": {
    "name": "ipython",
    "version": 3
   },
   "file_extension": ".py",
   "mimetype": "text/x-python",
   "name": "python",
   "nbconvert_exporter": "python",
   "pygments_lexer": "ipython3",
   "version": "3.12.4"
  }
 },
 "nbformat": 4,
 "nbformat_minor": 5
}
